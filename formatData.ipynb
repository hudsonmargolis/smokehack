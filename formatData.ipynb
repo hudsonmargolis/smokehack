{
 "cells": [
  {
   "cell_type": "code",
   "execution_count": 40,
   "metadata": {},
   "outputs": [],
   "source": [
    "import json\n",
    "import csv\n",
    "import os"
   ]
  },
  {
   "cell_type": "code",
   "execution_count": 41,
   "metadata": {},
   "outputs": [],
   "source": [
    "# establishes CSV\n",
    "\n",
    "headers = [\"age\", \"language\", \"smoking_frequency\", \n",
    "               \"never_smoked\", \"smoked_at_some_point\", \"currently_smoking\"]\n",
    "    \n",
    "with open('b2ai_smoking_data.csv', mode='w', newline='') as file:\n",
    "    writer = csv.writer(file)\n",
    "    writer.writerow(headers)"
   ]
  },
  {
   "cell_type": "code",
   "execution_count": 42,
   "metadata": {},
   "outputs": [],
   "source": [
    "def pullInfo(file, target):\n",
    "    if file == None:\n",
    "        return None\n",
    "    with open(file, 'r') as f:\n",
    "        data = json.load(f)\n",
    "    value = None\n",
    "    for item in data.get('item', []):\n",
    "        if item.get('linkId') == target:\n",
    "            answer = item.get('answer', [{}])[0]\n",
    "            if 'valueBoolean' in answer:\n",
    "                value = answer['valueBoolean']\n",
    "            elif 'valueString' in answer:\n",
    "                value = answer['valueString']\n",
    "            break\n",
    "\n",
    "    return value  \n",
    "\n",
    "def addRow(data):\n",
    "    with open('b2ai_smoking_data.csv', mode='a', newline='') as file:\n",
    "        writer = csv.writer(file)\n",
    "        writer.writerow(data)\n",
    "\n",
    "def getPartSurv(sub):\n",
    "    for surv in os.listdir(sub):\n",
    "        if surv[-9:-5] == \"pant\":\n",
    "            return os.path.join(sub, surv)\n",
    "\n",
    "def getConSurv(sub):\n",
    "    for ses in os.listdir(sub):\n",
    "        if ses[0:3] == 'ses':\n",
    "            x = os.path.join(sub, ses)\n",
    "            for beh in os.listdir(x):\n",
    "                if beh == 'beh':\n",
    "                    y = os.path.join(x, beh)\n",
    "                    for f in os.listdir(y):\n",
    "                        if f[-30:-5] == 'qgenericconfoundersschema':\n",
    "                            t = os.path.join(y, f)\n",
    "                            return t\n",
    "    \n"
   ]
  },
  {
   "cell_type": "code",
   "execution_count": 43,
   "metadata": {},
   "outputs": [],
   "source": [
    "#Establishes Disctionary\n",
    "\n",
    "d = dict()\n",
    "for sub in os.listdir('bids_with_sensitive_recordings'):\n",
    "    if sub[0:3] == 'sub':\n",
    "        i = os.path.join('bids_with_sensitive_recordings', sub)\n",
    "        d[i] = []\n"
   ]
  },
  {
   "cell_type": "code",
   "execution_count": 44,
   "metadata": {},
   "outputs": [
    {
     "name": "stdout",
     "output_type": "stream",
     "text": [
      "age : {'43.0', '51.0', '33.0', '65.0', '79.0', '25.0', '38.0', '68.0', '55.0', '37.0', '59.0', '54.0', '27.0', '30.0', '63.0', '31.0', '45.0', '90.0', '76.0', '21.0', '20.0', '60.0', '26.0', '73.0', '80.0', '75.0', '41.0', '69.0', '82.0', '48.0', '70.0', '67.0', '23.0', '57.0', '83.0', '61.0', '44.0', '42.0', '46.0', '29.0', '39.0', '62.0', '50.0', '32.0', '53.0', '24.0', '58.0', '74.0', '84.0', '19.0', '52.0', '71.0', '22.0', '40.0', '28.0', '66.0', '36.0', '72.0', '56.0', '64.0', '93.0'} \n",
      "\n",
      "selected_language : {'English'} \n",
      "\n",
      "smoking_freq : {'A few times a week', None, 'A few times a year', 'About once a day', 'Multiple times a day', 'A few times a month'} \n",
      "\n",
      "smoking_hx : {'I used to smoke', None, 'Prefer not to answer', \"I've never smoked regularly\", 'I currently smoke'} \n",
      "\n"
     ]
    }
   ],
   "source": [
    "#checks possible responces to questions of interest\n",
    "\n",
    "def printResp(ques, surv):\n",
    "    s = set()\n",
    "    for i in d:\n",
    "        if surv == 'part':\n",
    "            \n",
    "            s.add(pullInfo(getPartSurv(i), ques))\n",
    "        elif surv == 'cons':\n",
    "            s.add(pullInfo(getConSurv(i), ques))\n",
    "    print(f'{ques} : {s} \\n')\n",
    "\n",
    "\n",
    "printResp('age', 'part')\n",
    "printResp('selected_language', 'part')\n",
    "printResp('smoking_freq', 'cons')\n",
    "printResp('smoking_hx', 'cons')\n",
    "\n"
   ]
  },
  {
   "cell_type": "code",
   "execution_count": 45,
   "metadata": {},
   "outputs": [],
   "source": [
    "#Fills Dictionary\n",
    "\n",
    "for i in d:\n",
    "\n",
    "    d[i].append(pullInfo(getPartSurv(i), 'age'))\n",
    "    d[i].append('en')\n",
    "    smokF =  pullInfo(getConSurv(i), 'smoking_freq')\n",
    "    if (smokF == 'A few times a week') | (smokF == 'A few times a year') | (smokF == 'A few times a month') : \n",
    "        d[i].append('less-than-daily')\n",
    "    elif smokF == None:\n",
    "        d[i].append('not-at-all')\n",
    "    else:\n",
    "        d[i].append('daily')\n",
    "    smokH = pullInfo(getConSurv(i), 'smoking_hx')\n",
    "    if smokH == 'I used to smoke':\n",
    "        d[i].append(False)\n",
    "        d[i].append(True)\n",
    "        d[i].append(0)\n",
    "    elif smokH == 'I currently smoke':\n",
    "        d[i].append(False)\n",
    "        d[i].append(True)\n",
    "        d[i].append(1)\n",
    "    else:\n",
    "        d[i].append(True)\n",
    "        d[i].append(False)\n",
    "        d[i].append(0)\n",
    "\n"
   ]
  },
  {
   "cell_type": "code",
   "execution_count": 46,
   "metadata": {},
   "outputs": [
    {
     "data": {
      "text/plain": [
       "True"
      ]
     },
     "execution_count": 46,
     "metadata": {},
     "output_type": "execute_result"
    }
   ],
   "source": [
    "#Sanity checks Dictionary\n",
    "\n",
    "def check():\n",
    "    for i in d:\n",
    "        p = d[i]\n",
    "        if p[2] == 'not-at-all':\n",
    "            if (p[3] != True) & (p[4] != False) & (p[5] != 0):\n",
    "                return False\n",
    "        else:\n",
    "            if (p[3] == True) | (p[4] == False):\n",
    "                return False\n",
    "    return True\n",
    "check()"
   ]
  },
  {
   "cell_type": "code",
   "execution_count": 47,
   "metadata": {},
   "outputs": [],
   "source": [
    "#adds Data to the csv\n",
    "\n",
    "for i in d:\n",
    "    addRow(d[i])"
   ]
  }
 ],
 "metadata": {
  "kernelspec": {
   "display_name": "Python 3",
   "language": "python",
   "name": "python3"
  },
  "language_info": {
   "codemirror_mode": {
    "name": "ipython",
    "version": 3
   },
   "file_extension": ".py",
   "mimetype": "text/x-python",
   "name": "python",
   "nbconvert_exporter": "python",
   "pygments_lexer": "ipython3",
   "version": "3.9.6"
  }
 },
 "nbformat": 4,
 "nbformat_minor": 2
}
