{
 "cells": [
  {
   "cell_type": "code",
   "execution_count": 18,
   "metadata": {},
   "outputs": [],
   "source": [
    "import csv\n",
    "import os\n",
    "import sys\n",
    "from b2aiHelpers import *\n",
    "\n",
    "# Provide path to data dir here:\n",
    "data_dir = 'bids_with_sensitive_recordings'\n",
    "# Provide path to desired output file here:\n",
    "output_path = \"../identities/b2ai.csv\""
   ]
  },
  {
   "cell_type": "code",
   "execution_count": null,
   "metadata": {},
   "outputs": [
    {
     "name": "stdout",
     "output_type": "stream",
     "text": [
      "Data path provided doesn't map to a valid directory\n"
     ]
    },
    {
     "ename": "FileNotFoundError",
     "evalue": "[Errno 2] No such file or directory: 'bids_with_sensitive_recordings'",
     "output_type": "error",
     "traceback": [
      "\u001b[0;31m---------------------------------------------------------------------------\u001b[0m",
      "\u001b[0;31mFileNotFoundError\u001b[0m                         Traceback (most recent call last)",
      "Cell \u001b[0;32mIn[19], line 21\u001b[0m\n\u001b[1;32m     18\u001b[0m     writer \u001b[38;5;241m=\u001b[39m csv\u001b[38;5;241m.\u001b[39mwriter(file)\n\u001b[1;32m     19\u001b[0m     writer\u001b[38;5;241m.\u001b[39mwriterow(headers)\n\u001b[0;32m---> 21\u001b[0m \u001b[38;5;28;01mfor\u001b[39;00m sub \u001b[38;5;129;01min\u001b[39;00m \u001b[43mos\u001b[49m\u001b[38;5;241;43m.\u001b[39;49m\u001b[43mlistdir\u001b[49m\u001b[43m(\u001b[49m\u001b[43mdata_dir\u001b[49m\u001b[43m)\u001b[49m:\n\u001b[1;32m     22\u001b[0m     \u001b[38;5;28;01mif\u001b[39;00m sub[\u001b[38;5;241m0\u001b[39m:\u001b[38;5;241m3\u001b[39m] \u001b[38;5;241m==\u001b[39m \u001b[38;5;124m'\u001b[39m\u001b[38;5;124msub\u001b[39m\u001b[38;5;124m'\u001b[39m:\n\u001b[1;32m     23\u001b[0m         i \u001b[38;5;241m=\u001b[39m os\u001b[38;5;241m.\u001b[39mpath\u001b[38;5;241m.\u001b[39mjoin(data_dir, sub)\n",
      "\u001b[0;31mFileNotFoundError\u001b[0m: [Errno 2] No such file or directory: 'bids_with_sensitive_recordings'"
     ]
    }
   ],
   "source": [
    "#Establishes Dictionary\n",
    "d = dict()\n",
    "\n",
    "try:\n",
    "    found_files = os.listdir(data_dir)\n",
    "except:\n",
    "    print(\"Data path provided doesn't map to a valid directory\")\n",
    "    sys.exit()\n",
    "\n",
    "if len(found_files) < 3: \n",
    "    print(\"Data folder has no entries\")\n",
    "    sys.exit()\n",
    "\n",
    "# establishes CSV\n",
    "headers = [\"age\", \"language\", \"smoking_frequency\", \n",
    "               \"never_smoked\", \"smoked_at_some_point\", \"currently_smoking\"]\n",
    "    \n",
    "with open(output_path, mode='w', newline='') as file:\n",
    "    writer = csv.writer(file)\n",
    "    writer.writerow(headers)\n",
    "\n",
    "for sub in os.listdir(data_dir):\n",
    "    if sub[0:3] == 'sub':\n",
    "        i = os.path.join(data_dir, sub)\n",
    "        d[i] = []\n"
   ]
  },
  {
   "cell_type": "code",
   "execution_count": null,
   "metadata": {},
   "outputs": [
    {
     "name": "stdout",
     "output_type": "stream",
     "text": [
      "age : {'40.0', '66.0', '60.0', '72.0', '32.0', '28.0', '46.0', '82.0', '54.0', '25.0', '55.0', '84.0', '20.0', '19.0', '58.0', '70.0', '67.0', '65.0', '24.0', '42.0', '71.0', '22.0', '62.0', '75.0', '21.0', '31.0', '53.0', '23.0', '30.0', '69.0', '27.0', '64.0', '83.0', '29.0', '52.0', '61.0', '26.0', '51.0', '36.0', '56.0', '57.0', '45.0', '48.0', '38.0', '74.0', '80.0', '76.0', '93.0', '68.0', '43.0', '33.0', '90.0', '63.0', '44.0', '39.0', '59.0', '73.0', '79.0', '37.0', '50.0', '41.0'} \n",
      "\n",
      "selected_language : {'English'} \n",
      "\n",
      "smoking_freq : {'A few times a year', None, 'About once a day', 'A few times a month', 'A few times a week', 'Multiple times a day'} \n",
      "\n",
      "smoking_hx : {None, 'I currently smoke', 'I used to smoke', 'Prefer not to answer', \"I've never smoked regularly\"} \n",
      "\n"
     ]
    }
   ],
   "source": [
    "#checks possible responces to questions of interest\n",
    "\n",
    "def printResp(ques):\n",
    "    s = set()\n",
    "    for i in d: \n",
    "        s.add(getInfo(i, ques))\n",
    "    print(f'{ques} : {s} \\n')\n",
    "\n",
    "\n",
    "printResp('age')\n",
    "printResp('selected_language')\n",
    "printResp('smoking_freq')\n",
    "printResp('smoking_hx')\n",
    "\n"
   ]
  },
  {
   "cell_type": "code",
   "execution_count": null,
   "metadata": {},
   "outputs": [],
   "source": [
    "#Fills Dictionary\n",
    "\n",
    "for i in d:\n",
    "\n",
    "    d[i].append(getInfo(i, 'age'))\n",
    "    d[i].append('en')\n",
    "    smokF =  getInfo(i,  'smoking_freq')\n",
    "    if (smokF == 'A few times a week') | (smokF == 'A few times a year') | (smokF == 'A few times a month') : \n",
    "        d[i].append('less-than-daily')\n",
    "    elif smokF == None:\n",
    "        d[i].append('not-at-all')\n",
    "    else:\n",
    "        d[i].append('daily')\n",
    "    smokH = getInfo(i,  'smoking_hx')\n",
    "    if smokH == 'I used to smoke':\n",
    "        d[i].append(False)\n",
    "        d[i].append(True)\n",
    "        d[i].append(0)\n",
    "    elif smokH == 'I currently smoke':\n",
    "        d[i].append(False)\n",
    "        d[i].append(True)\n",
    "        d[i].append(1)\n",
    "    else:\n",
    "        d[i].append(True)\n",
    "        d[i].append(False)\n",
    "        d[i].append(0)\n",
    "\n"
   ]
  },
  {
   "cell_type": "code",
   "execution_count": null,
   "metadata": {},
   "outputs": [
    {
     "data": {
      "text/plain": [
       "True"
      ]
     },
     "execution_count": 13,
     "metadata": {},
     "output_type": "execute_result"
    }
   ],
   "source": [
    "#Sanity checks Dictionary\n",
    "\n",
    "def check():\n",
    "    for i in d:\n",
    "        p = d[i]\n",
    "        if p[2] == 'not-at-all':\n",
    "            if (p[3] != True) & (p[4] != False) & (p[5] != 0):\n",
    "                return False\n",
    "        else:\n",
    "            if (p[3] == True) | (p[4] == False):\n",
    "                return False\n",
    "    return True\n",
    "check()"
   ]
  },
  {
   "cell_type": "code",
   "execution_count": null,
   "metadata": {},
   "outputs": [],
   "source": [
    "#adds Data to the csv\n",
    "\n",
    "def addRow(data):\n",
    "    with open(output_path, mode='a', newline='') as file:\n",
    "        writer = csv.writer(file)\n",
    "        writer.writerow(data)\n",
    "        \n",
    "for i in d:\n",
    "    addRow(d[i])"
   ]
  }
 ],
 "metadata": {
  "kernelspec": {
   "display_name": "Python 3",
   "language": "python",
   "name": "python3"
  },
  "language_info": {
   "codemirror_mode": {
    "name": "ipython",
    "version": 3
   },
   "file_extension": ".py",
   "mimetype": "text/x-python",
   "name": "python",
   "nbconvert_exporter": "python",
   "pygments_lexer": "ipython3",
   "version": "3.10.14"
  }
 },
 "nbformat": 4,
 "nbformat_minor": 2
}
