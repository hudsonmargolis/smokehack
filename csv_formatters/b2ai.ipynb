{
 "cells": [
  {
   "cell_type": "code",
   "execution_count": 20,
   "metadata": {},
   "outputs": [],
   "source": [
    "import csv\n",
    "import os\n",
    "import sys\n",
    "from b2aiHelpers import *\n",
    "\n",
    "# Provide path to data dir here:\n",
    "data_dir = 'bids_with_sensitive_recordings'\n",
    "# Provide path to desired output file here:\n",
    "output_path = \"../identities/b2ai.csv\""
   ]
  },
  {
   "cell_type": "code",
   "execution_count": null,
   "metadata": {},
   "outputs": [],
   "source": [
    "#Establishes Dictionary\n",
    "d = dict()\n",
    "\n",
    "try:\n",
    "    found_files = os.listdir(data_dir)\n",
    "except:\n",
    "    print(\"Data path provided doesn't map to a valid directory\")\n",
    "    sys.exit()\n",
    "\n",
    "if len(found_files) < 3: \n",
    "    print(\"Data folder has no entries\")\n",
    "    sys.exit()\n",
    "\n",
    "# establishes CSV\n",
    "headers = [\"age\", \"language\", \"smoking_frequency\", \n",
    "               \"never_smoked\", \"smoked_at_some_point\", \"currently_smoking\"]\n",
    "    \n",
    "with open(output_path, mode='w', newline='') as file:\n",
    "    writer = csv.writer(file)\n",
    "    writer.writerow(headers)\n",
    "\n",
    "for sub in os.listdir(data_dir):\n",
    "    if sub[0:3] == 'sub':\n",
    "        i = os.path.join(data_dir, sub)\n",
    "        d[i] = []\n"
   ]
  },
  {
   "cell_type": "code",
   "execution_count": null,
   "metadata": {},
   "outputs": [],
   "source": [
    "#checks possible responces to questions of interest\n",
    "\n",
    "def printResp(ques):\n",
    "    s = set()\n",
    "    for i in d: \n",
    "        s.add(getInfo(i, ques))\n",
    "    print(f'{ques} : {s} \\n')\n",
    "\n",
    "\n",
    "printResp('age')\n",
    "printResp('selected_language')\n",
    "printResp('smoking_freq')\n",
    "printResp('smoking_hx')\n",
    "\n"
   ]
  },
  {
   "cell_type": "code",
   "execution_count": null,
   "metadata": {},
   "outputs": [],
   "source": [
    "#Fills Dictionary\n",
    "\n",
    "for i in d:\n",
    "\n",
    "    d[i].append(getInfo(i, 'age'))\n",
    "    d[i].append('en')\n",
    "    smokF =  getInfo(i,  'smoking_freq')\n",
    "    if (smokF == 'A few times a week') | (smokF == 'A few times a year') | (smokF == 'A few times a month') : \n",
    "        d[i].append('less-than-daily')\n",
    "    elif smokF == None:\n",
    "        d[i].append('not-at-all')\n",
    "    else:\n",
    "        d[i].append('daily')\n",
    "    smokH = getInfo(i,  'smoking_hx')\n",
    "    if smokH == 'I used to smoke':\n",
    "        d[i].append(False)\n",
    "        d[i].append(True)\n",
    "        d[i].append(0)\n",
    "    elif smokH == 'I currently smoke':\n",
    "        d[i].append(False)\n",
    "        d[i].append(True)\n",
    "        d[i].append(1)\n",
    "    else:\n",
    "        d[i].append(True)\n",
    "        d[i].append(False)\n",
    "        d[i].append(0)\n",
    "\n"
   ]
  },
  {
   "cell_type": "code",
   "execution_count": null,
   "metadata": {},
   "outputs": [],
   "source": [
    "#Sanity checks Dictionary\n",
    "\n",
    "def check():\n",
    "    for i in d:\n",
    "        p = d[i]\n",
    "        if p[2] == 'not-at-all':\n",
    "            if (p[3] != True) & (p[4] != False) & (p[5] != 0):\n",
    "                return False\n",
    "        else:\n",
    "            if (p[3] == True) | (p[4] == False):\n",
    "                return False\n",
    "    return True\n",
    "check()"
   ]
  },
  {
   "cell_type": "code",
   "execution_count": null,
   "metadata": {},
   "outputs": [],
   "source": [
    "#adds Data to the csv\n",
    "\n",
    "def addRow(data):\n",
    "    with open(output_path, mode='a', newline='') as file:\n",
    "        writer = csv.writer(file)\n",
    "        writer.writerow(data)\n",
    "        \n",
    "for i in d:\n",
    "    addRow(d[i])"
   ]
  }
 ],
 "metadata": {
  "kernelspec": {
   "display_name": "Python 3",
   "language": "python",
   "name": "python3"
  },
  "language_info": {
   "codemirror_mode": {
    "name": "ipython",
    "version": 3
   },
   "file_extension": ".py",
   "mimetype": "text/x-python",
   "name": "python",
   "nbconvert_exporter": "python",
   "pygments_lexer": "ipython3",
   "version": "3.10.14"
  }
 },
 "nbformat": 4,
 "nbformat_minor": 2
}
